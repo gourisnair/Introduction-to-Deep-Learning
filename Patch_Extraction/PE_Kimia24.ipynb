#!/usr/bin/env python
# coding: utf-8

# In[1]:


from __future__ import print_function
import tensorflow as tf
import matplotlib.pyplot as plt
import sys


# In[2]:


image_file = 's0_1.jpg'
image_string =tf.gfile.FastGFile(image_file, 'rb').read()
ksize_rows = 224
ksize_cols = 224
strides_rows = 128 # 299
strides_cols = 299 # 299
sess = tf.InteractiveSession()
image = tf.image.decode_image(image_string, channels=3)
ksizes = [1, ksize_rows, ksize_cols, 1] 
strides = [1, strides_rows, strides_cols, 1]
rates = [1, 1, 1, 1] 
padding='VALID'
image = tf.expand_dims(image, 0)
image_patches = tf.extract_image_patches(image, ksizes, strides, rates, padding)


# In[3]:


def plot_image_patches1(x,i,j, ksize_rows=224, ksize_cols=224):
  nr = x.shape[1]
  nc = x.shape[2]
  fig= plt.figure()
  plt.axis('off')
  plt.imshow(x[0,i,j,].reshape(ksize_rows, ksize_cols, 3))
  return fig


# In[4]:


x=sess.run(image_patches)
print(x.shape, file=sys.stderr)


# In[5]:


fig = plot_image_patches1(x,0,0)
fig.savefig('image_patches1.png', bbox_inches='tight',dpi=120) # use dpi to control image size, e.g. 800


# In[6]:


plt.close(fig)


# In[7]:


fig = plot_image_patches1(x,0,1)
fig.savefig('image_patches2.png', bbox_inches='tight',dpi=120) # use dpi to control image size, e.g. 800


# In[8]:


plt.close(fig)


# In[9]:


fig = plot_image_patches1(x,1,0)
fig.savefig('image_patches3.png', bbox_inches='tight',dpi=120) # use dpi to control image size, e.g. 800


# In[10]:


plt.close(fig)


# In[11]:


fig = plot_image_patches1(x,1,1)
fig.savefig('image_patches4.png', bbox_inches='tight',dpi=120) # use dpi to control image size, e.g. 800


# In[14]:


plt.close(fig)


# In[15]:


sess.close()


# In[ ]:





